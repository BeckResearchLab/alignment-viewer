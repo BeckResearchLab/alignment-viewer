{
 "cells": [
  {
   "cell_type": "markdown",
   "metadata": {},
   "source": [
    "The purpose of this notebook is to develop code that is able to handle genome and gene annotations"
   ]
  },
  {
   "cell_type": "code",
   "execution_count": 63,
   "metadata": {},
   "outputs": [],
   "source": [
    "# imports\n",
    "\n",
    "import pandas as pd\n",
    "import math\n",
    "import pybedtools\n",
    "import matplotlib.pyplot as plt\n",
    "import seaborn as sns\n",
    "import os\n",
    "from Bio import SeqIO\n"
   ]
  },
  {
   "cell_type": "code",
   "execution_count": 34,
   "metadata": {},
   "outputs": [
    {
     "data": {
      "text/plain": [
       "['NZ_KB913035.1.gb',\n",
       " '.DS_Store',\n",
       " 'NZ_JPOH01000001.1.gb',\n",
       " 'NC_012968.1.gb',\n",
       " 'NZ_JMLA01000001.1.gb',\n",
       " 'NZ_CP033381.1.gb']"
      ]
     },
     "execution_count": 34,
     "metadata": {},
     "output_type": "execute_result"
    }
   ],
   "source": [
    "os.listdir('../scratchspace/joes_reference_genomes/genbank/')"
   ]
  },
  {
   "cell_type": "code",
   "execution_count": 62,
   "metadata": {},
   "outputs": [
    {
     "name": "stdout",
     "output_type": "stream",
     "text": [
      "NZ_KB913035\n",
      "Methylotenera mobilis 13 A391DRAFT_scaffold1.1, whole genome shotgun sequence\n",
      "\n",
      "\n",
      "NZ_JPOH01000001\n",
      "Methylobacter tundripaludum 31/32 T449DRAFT_scf7180000000004_quiver.1_C, whole genome shotgun sequence\n",
      "\n",
      "\n",
      "NC_012968\n",
      "Methylotenera mobilis JLW8, complete genome\n",
      "\n",
      "\n",
      "NZ_JMLA01000001\n",
      "Methylobacter tundripaludum 21/22 T451DRAFT_scf7180000000002_quiver_dupTrim_4432.1_C, whole genome shotgun sequence\n",
      "\n",
      "\n",
      "NZ_CP033381\n",
      "Methylomonas sp. LW13 chromosome, complete genome\n",
      "\n",
      "\n"
     ]
    }
   ],
   "source": [
    "# create list of genomes\n",
    "\n",
    "genbank_dir = '../scratchspace/joes_reference_genomes/genbank/'\n",
    "genomes = []\n",
    "\n",
    "for filename in os.listdir(genbank_dir):\n",
    "    if filename[-3:] == '.gb':\n",
    "        for _, record in enumerate(SeqIO.parse(genbank_dir + filename, 'genbank')):\n",
    "            print(record.name)\n",
    "            print(record.description)\n",
    "            print('\\n')\n",
    "            genomes.append(record)\n",
    "    else:\n",
    "        pass\n"
   ]
  },
  {
   "cell_type": "code",
   "execution_count": 68,
   "metadata": {},
   "outputs": [
    {
     "data": {
      "text/html": [
       "<div>\n",
       "<style scoped>\n",
       "    .dataframe tbody tr th:only-of-type {\n",
       "        vertical-align: middle;\n",
       "    }\n",
       "\n",
       "    .dataframe tbody tr th {\n",
       "        vertical-align: top;\n",
       "    }\n",
       "\n",
       "    .dataframe thead th {\n",
       "        text-align: right;\n",
       "    }\n",
       "</style>\n",
       "<table border=\"1\" class=\"dataframe\">\n",
       "  <thead>\n",
       "    <tr style=\"text-align: right;\">\n",
       "      <th></th>\n",
       "      <th>human_name</th>\n",
       "      <th>directory</th>\n",
       "    </tr>\n",
       "  </thead>\n",
       "  <tbody>\n",
       "    <tr>\n",
       "      <th>0</th>\n",
       "      <td>Methylotenera mobilis JLW8</td>\n",
       "      <td>NC_012968</td>\n",
       "    </tr>\n",
       "    <tr>\n",
       "      <th>1</th>\n",
       "      <td>Methylomonas sp. LW13</td>\n",
       "      <td>NZ_CP033381.1</td>\n",
       "    </tr>\n",
       "    <tr>\n",
       "      <th>2</th>\n",
       "      <td>Methylobacter tundripaludum 21/22</td>\n",
       "      <td>NZ_JMLA01000001</td>\n",
       "    </tr>\n",
       "    <tr>\n",
       "      <th>3</th>\n",
       "      <td>Methylobacter tundripaludum 31/32</td>\n",
       "      <td>NZ_JPOH01000001</td>\n",
       "    </tr>\n",
       "    <tr>\n",
       "      <th>4</th>\n",
       "      <td>Methylotenera mobilis 13</td>\n",
       "      <td>NZ_KB913035</td>\n",
       "    </tr>\n",
       "  </tbody>\n",
       "</table>\n",
       "</div>"
      ],
      "text/plain": [
       "                          human_name        directory\n",
       "0         Methylotenera mobilis JLW8        NC_012968\n",
       "1              Methylomonas sp. LW13    NZ_CP033381.1\n",
       "2  Methylobacter tundripaludum 21/22  NZ_JMLA01000001\n",
       "3  Methylobacter tundripaludum 31/32  NZ_JPOH01000001\n",
       "4           Methylotenera mobilis 13      NZ_KB913035"
      ]
     },
     "execution_count": 68,
     "metadata": {},
     "output_type": "execute_result"
    }
   ],
   "source": [
    "# make lookup directory of names & record ids\n",
    "\n",
    "names = ['Methylotenera mobilis JLW8', 'Methylomonas sp. LW13', 'Methylobacter tundripaludum 21/22',\n",
    "         'Methylobacter tundripaludum 31/32', 'Methylotenera mobilis 13', ]\n",
    "record_ids = ['NC_012968', 'NZ_CP033381.1', 'NZ_JMLA01000001', 'NZ_JPOH01000001', 'NZ_KB913035']\n",
    "\n",
    "aligned_genomes = pd.DataFrame(data={'human_name': names, 'directory': record_ids})\n",
    "aligned_genomes.head()\n",
    "\n",
    "# aligned_genomes.to_csv('aligned_genome_lookup.csv', index=False)"
   ]
  },
  {
   "cell_type": "code",
   "execution_count": 66,
   "metadata": {},
   "outputs": [],
   "source": []
  },
  {
   "cell_type": "code",
   "execution_count": 46,
   "metadata": {},
   "outputs": [],
   "source": [
    "sample_features = []\n",
    "\n",
    "for index, record in enumerate(SeqIO.parse('../scratchspace/joes_reference_genomes/genbank/NZ_JPOH01000001.1.gb', 'genbank')):\n",
    "    for feature in record.features:\n",
    "        sample_features.append(feature)"
   ]
  },
  {
   "cell_type": "code",
   "execution_count": 52,
   "metadata": {},
   "outputs": [
    {
     "data": {
      "text/plain": [
       "['__bool__',\n",
       " '__class__',\n",
       " '__contains__',\n",
       " '__delattr__',\n",
       " '__dict__',\n",
       " '__dir__',\n",
       " '__doc__',\n",
       " '__eq__',\n",
       " '__format__',\n",
       " '__ge__',\n",
       " '__getattribute__',\n",
       " '__gt__',\n",
       " '__hash__',\n",
       " '__init__',\n",
       " '__init_subclass__',\n",
       " '__iter__',\n",
       " '__le__',\n",
       " '__len__',\n",
       " '__lt__',\n",
       " '__module__',\n",
       " '__ne__',\n",
       " '__new__',\n",
       " '__nonzero__',\n",
       " '__reduce__',\n",
       " '__reduce_ex__',\n",
       " '__repr__',\n",
       " '__setattr__',\n",
       " '__sizeof__',\n",
       " '__str__',\n",
       " '__subclasshook__',\n",
       " '__weakref__',\n",
       " '_flip',\n",
       " '_get_location_operator',\n",
       " '_get_ref',\n",
       " '_get_ref_db',\n",
       " '_get_strand',\n",
       " '_set_location_operator',\n",
       " '_set_ref',\n",
       " '_set_ref_db',\n",
       " '_set_strand',\n",
       " '_shift',\n",
       " 'extract',\n",
       " 'id',\n",
       " 'location',\n",
       " 'location_operator',\n",
       " 'qualifiers',\n",
       " 'ref',\n",
       " 'ref_db',\n",
       " 'strand',\n",
       " 'translate',\n",
       " 'type']"
      ]
     },
     "execution_count": 52,
     "metadata": {},
     "output_type": "execute_result"
    }
   ],
   "source": [
    "dir(sample_features[1])"
   ]
  },
  {
   "cell_type": "code",
   "execution_count": 57,
   "metadata": {},
   "outputs": [
    {
     "data": {
      "text/plain": [
       "OrderedDict([('locus_tag', ['T449_RS0100005'])])"
      ]
     },
     "execution_count": 57,
     "metadata": {},
     "output_type": "execute_result"
    }
   ],
   "source": [
    "sample_features[1].qualifiers"
   ]
  },
  {
   "cell_type": "code",
   "execution_count": null,
   "metadata": {},
   "outputs": [],
   "source": []
  }
 ],
 "metadata": {
  "kernelspec": {
   "display_name": "Python 3",
   "language": "python",
   "name": "python3"
  },
  "language_info": {
   "codemirror_mode": {
    "name": "ipython",
    "version": 3
   },
   "file_extension": ".py",
   "mimetype": "text/x-python",
   "name": "python",
   "nbconvert_exporter": "python",
   "pygments_lexer": "ipython3",
   "version": "3.7.1"
  }
 },
 "nbformat": 4,
 "nbformat_minor": 2
}
