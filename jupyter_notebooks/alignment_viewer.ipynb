{
 "cells": [
  {
   "cell_type": "markdown",
   "metadata": {},
   "source": [
    "This notebook is meant to be an exploration tool for examining sequencing coverage and sequenct variants among sequence reads from metagenomic time series samples, aligned to isolate genomes"
   ]
  },
  {
   "cell_type": "code",
   "execution_count": 335,
   "metadata": {},
   "outputs": [],
   "source": [
    "# imports\n",
    "\n",
    "import os\n",
    "import pybedtools\n",
    "import pandas as pd\n",
    "import matplotlib.pyplot as plt\n",
    "import seaborn as sns\n",
    "import ipywidgets"
   ]
  },
  {
   "cell_type": "code",
   "execution_count": 336,
   "metadata": {},
   "outputs": [],
   "source": [
    "# set global variables\n",
    "\n",
    "base_directory = '../scratchspace/test_output/'"
   ]
  },
  {
   "cell_type": "code",
   "execution_count": 337,
   "metadata": {},
   "outputs": [],
   "source": [
    "# functions (move this to a .py file)\n",
    "\n",
    "def coverage_variants_plot(coverage_bed, variant_bed, begin, end, axis, name=None, labels=True, legend=True):\n",
    "    \"\"\"\n",
    "    coverage_variants_plot() returns an overlay plot with the coverage and variants within a given region.\n",
    "        Note that the coverage bed and variant bed provided should both be for the same region.\n",
    "        \n",
    "    Args:\n",
    "        coverage_bed (pybedtools.bedtool.BedTool): product of a bedtools intersect between a coverage BedTool, \n",
    "            and a region of interest\n",
    "        variant_bed (pybedtools.bedtool.BedTool): product of a bedtools intersect between a variant (.vcf) BedTool, \n",
    "            and a region of interest\n",
    "        begin (int): genome coordinate of start of region of interest\n",
    "        end (int): genome coordinate of end of region of interest\n",
    "        axis (matplotlib.axis.Axis): a matplotlib axis object, on which the resulting plot will be drawn\n",
    "        name (str): default=None, if not none, this string will display as the title above the plot\n",
    "        labels (bool): default=True, if True, axis labels will be added to the plot\n",
    "        legend (bool): default=True, if True, a legend will be added to the plot\n",
    "        \n",
    "    Returns:\n",
    "        a matplotlib axis object, with the read coverage and variants of an aligned region of interest plotted\n",
    "    \"\"\"\n",
    "    coverage_bases = []\n",
    "    coverage = []\n",
    "    variant_bases = [0.0]\n",
    "    p_variant = [0.0]\n",
    "\n",
    "    for interval in coverage_bed:\n",
    "        start = interval.start - begin + 0.1    # offset coordinates to convert to floats\n",
    "        stop = interval.stop - begin - 0.1    # and to prevent two depths at the same coordinate\n",
    "        depth = float(interval.name)\n",
    "        coverage_bases.extend([start, stop])    # add both start and stop to the list of positions\n",
    "        coverage.extend([depth, depth])    # add depths for both start and stop coordinates\n",
    "    \n",
    "    for interval in variant_bed:\n",
    "        start = interval.start - begin + 0.1    # offset coordinates to convert to floats\n",
    "        stop = interval.stop - begin - 0.1    # and to prevent two depths at the same coordinate\n",
    "        p_value = 1.0 - math.pow(10.0, float(interval[5]) * -0.1)    # calculate p-value from Phred score\n",
    "        variant_bases.extend([start - 0.1, start, stop, stop + 0.1])    # add both start and stop to the list of positions\n",
    "        p_variant.extend([0.0, p_value, p_value, 0.0])    # add depths for both start and stop coordinates\n",
    "    variant_bases.append(end - begin)\n",
    "    p_variant.append(0.0)\n",
    "    \n",
    "    axis2 = axis.twinx()\n",
    "    sns.lineplot(x=coverage_bases, y=coverage, ax=axis, color='blue', label='coverage', legend=False)    \n",
    "    # plot coverage second, y axis on left\n",
    "    sns.lineplot(x=variant_bases, y=p_variant, ax=axis2, color='orange', alpha=0.5, \n",
    "                            label='sequence\\nvariants', legend=False)    \n",
    "    # plot variants first, y axis on right\n",
    "    axis.fill_between(x=coverage_bases, y1=coverage, color='blue', alpha=0.3)\n",
    "    axis2.set_ylim([-0.05, 1.05])\n",
    "    \n",
    "    if name != None:\n",
    "        axis.set_title(name)\n",
    "    else:\n",
    "        pass\n",
    "    \n",
    "    if labels:\n",
    "        axis.set_xlabel('relative base coordinate')\n",
    "        axis.set_ylabel('coverage depth\\n(number of reads)')\n",
    "        axis2.set_ylabel('probability of\\nsequence variation')\n",
    "    else:\n",
    "        pass\n",
    "    \n",
    "    if legend:\n",
    "        cov_line, cov_label = axis.get_legend_handles_labels()\n",
    "        var_line, var_label = axis2.get_legend_handles_labels()\n",
    "        axis.legend(cov_line + var_line, cov_label + var_label)\n",
    "    else:\n",
    "        pass\n",
    "        \n",
    "    return axis2\n",
    "\n",
    "# general plot function\n",
    "\n",
    "def generate_combined_plot(alignments_df, isolate, region_bed):\n",
    "    \"\"\"\n",
    "    generate_combined_plot()\n",
    "    \n",
    "    Args:\n",
    "        alignments_df (pandas.DataFrame): DataFrame of the data of interest. Must contain at least these fields:\n",
    "            ['week', 'O2', 'replicate', 'filepath']\n",
    "        isolate (str): human-readable name of isolate genome to be examined\n",
    "        region_bed (pybedtools.BedTool): BedTool object of region of interest\n",
    "        \n",
    "    Returns:\n",
    "        matplotlib plot object\n",
    "        matplotlib axes object\n",
    "    \"\"\"\n",
    "    num_entries = alignments_df.shape[0]\n",
    "    fig, axes = plt.subplots(num_entries, 1, sharex=True, figsize=(16, num_entries * 2))\n",
    "    # loop over and generate coverage/variant plot for each data of interest\n",
    "    for index, row in alignments_df.iterrows():\n",
    "        # only add legend on first figure in set\n",
    "        if index == 0:\n",
    "            legend = True\n",
    "        else:\n",
    "            legend = False\n",
    "        # pull filepath from dataframe\n",
    "        filepath = row['filepath']\n",
    "        # make the coverage BedTool, and intersect with region of interest\n",
    "        coverage_bed = pybedtools.BedTool(filepath + '.coverage.bed')\n",
    "        region_coverage = coverage_bed.intersect(region_bed)\n",
    "        # make the variant BedTool, and intersect with region of interest\n",
    "        variant_bed = pybedtools.BedTool(filepath + '.vcf')\n",
    "        region_variants = variant_bed.intersect(region_bed)\n",
    "        # compose title with week, O2 level, and replicate information\n",
    "        title = 'week {} - {} O2 - replicate {}'.format(row['week'], row['O2'], row['replicate'])\n",
    "        coverage_variants_plot(region_coverage, region_variants, region_bed[0].start, region_bed[0].stop, \n",
    "                               axes[index], title, labels=False, legend=legend)\n",
    "    # write global labels to figure\n",
    "    fig.text(0.5, 0.99, '{} - {}'.format(isolate, region_bed[0].name), ha='center', va='center', fontsize='x-large')\n",
    "    fig.text(0.5, 0.03, 'relative base coordinate', ha='center', va='center', fontsize='large')\n",
    "    fig.text(0.09, 0.5, 'coverage depth', ha='center', va='center', rotation='vertical', fontsize='large')\n",
    "    fig.text(0.94, 0.5, 'probability of\\nsequence variation', ha='center', va='center', rotation='vertical', \n",
    "             fontsize='large')\n",
    "    return fig, axes\n",
    "\n",
    "# functions to capture user input\n",
    "\n",
    "def isolate_input(isolate):\n",
    "    \"\"\"\n",
    "    isolate_input() is a function that can be passed to an ipywidgets.interactive() instance, to allow user \n",
    "        input in defining which isolate reference genome to examine\n",
    "    \n",
    "    Args:\n",
    "        isolate (str): human-readable isolate genome\n",
    "        \n",
    "    Returns:\n",
    "        isolate string\n",
    "    \"\"\"\n",
    "    return isolate\n",
    "\n",
    "def base_coord_input(start, stop, label):\n",
    "    \"\"\"\n",
    "    base_coord_input() is a function that can be passed to an ipywidgets.interactive() instance, to allow user \n",
    "        input in defining the genome coordinates of the region of interest\n",
    "    \n",
    "    Args:\n",
    "        start (str): string input that can be cast as an int\n",
    "        stop (str): string input that can be cast as an int\n",
    "        label (str): human-readable isolate genome\n",
    "        \n",
    "    Returns:\n",
    "        start, stop, & label\n",
    "    \"\"\"\n",
    "    start = int(start)\n",
    "    stop = int(stop)\n",
    "    label = str(label)\n",
    "    return start, stop, label\n",
    "\n",
    "def week_input(week_4, week_5, week_6, week_7, week_8, week_9, week_10, week_11, week_12, week_13, week_14):\n",
    "    \"\"\"\n",
    "    week_input() is a function that can be passed to an ipywidgets.interactive() instance, to allow user \n",
    "        input in defining the sampling weeks to examine\n",
    "    \n",
    "    Args:\n",
    "        week_x (bool): each week argument is a bool, whereby True signifies inclusion, and False signifies exclusion\n",
    "        \n",
    "    Returns:\n",
    "        list of ints of selected week numbers\n",
    "    \"\"\"\n",
    "    arguments = locals()\n",
    "    week_lookup = {'week_4':4, 'week_5':5, 'week_6':6, 'week_7':7, 'week_8':8, \n",
    "                   'week_9':9, 'week_10':10, 'week_11':11, 'week_12':12, 'week_13':13, 'week_14':14}\n",
    "    selected_weeks = []\n",
    "    for week, included in arguments.items():\n",
    "        if included:\n",
    "            week_num = week_lookup[week]\n",
    "            selected_weeks.append(week_num)\n",
    "        else:\n",
    "            pass\n",
    "    return selected_weeks\n",
    "\n",
    "def replicate_input(replicate_1, replicate_2, replicate_3, replicate_4):\n",
    "    \"\"\"\n",
    "    replicate_input() is a function that can be passed to an ipywidgets.interactive() instance, to allow user \n",
    "        input in defining the replicates from each sample week to examine\n",
    "    \n",
    "    Args:\n",
    "        replicate_x (bool): each replicate argument is a bool, whereby True signifies inclusion, \n",
    "            and False signifies exclusion\n",
    "        \n",
    "    Returns:\n",
    "        list of ints of selected replicate numbers\n",
    "    \"\"\"\n",
    "    arguments = locals()\n",
    "    replicate_lookup = {'replicate_1':1, 'replicate_2':2, 'replicate_3':3, 'replicate_4':4}\n",
    "    selected_replicates = []\n",
    "    for rep, included in arguments.items():\n",
    "        if included:\n",
    "            rep_num = replicate_lookup[rep]\n",
    "            selected_replicates.append(rep_num)\n",
    "        else:\n",
    "            pass\n",
    "    return selected_replicates\n",
    "\n",
    "def o2_level_input(low, high):\n",
    "    \"\"\"\n",
    "    o2_level_input() is a function that can be passed to an ipywidgets.interactive() instance, to allow user \n",
    "        input in defining the oxygen levels from each sample week to examine\n",
    "    \n",
    "    Args:\n",
    "        low, high (bool): each oxygen level argument is a bool, whereby True signifies inclusion, \n",
    "            and False signifies exclusion\n",
    "        \n",
    "    Returns:\n",
    "        list of strings of selected oxygen levels\n",
    "    \"\"\"\n",
    "    arguments = locals()\n",
    "    selected_o2 = []\n",
    "    for o2_level, included in arguments.items():\n",
    "        if included:\n",
    "            selected_o2.append(o2_level)\n",
    "        else:\n",
    "            pass\n",
    "    return selected_o2\n",
    "\n",
    "# function to build bedfiles for data\n",
    "\n",
    "def get_reference(isolate, start, stop, label):\n",
    "    \"\"\"\n",
    "    get_reference() takes the human-readable input isolate genome, and looks up the isolate directory name\n",
    "        (also the NCBI id), and generates a bedfile based on this reference genome and the region of interest\n",
    "    \n",
    "    Args:\n",
    "        isolate (str): human-readable input isolate genome\n",
    "        start (int): input start base coordinate of region of interest\n",
    "        stop (int): input stop base coordinate of region of interest\n",
    "        label (str): input human-readable name for region of interest\n",
    "        \n",
    "    Returns:\n",
    "        string of the isolate directory name\n",
    "        pybedtools.BedTools of the region of interest \n",
    "    \"\"\"\n",
    "    isolate_genome_df = pd.read_csv(base_directory + 'aligned_isolate_genomes.csv')\n",
    "    index = isolate_genome_df.loc[isolate_genome_df['human_name'] == isolate].index[0]\n",
    "    isolate_directory = isolate_genome_df.loc[index, 'directory']\n",
    "    bed_string = '{} {} {} {}'.format(isolate_directory, start, stop, label)\n",
    "    region_bed = pybedtools.BedTool(bed_string, from_string=True)\n",
    "    return isolate_directory, region_bed\n",
    "\n",
    "# function to select data based on user inputs\n",
    "\n",
    "def select_data(weeks, replicates, o2_levels, isolate_dir):\n",
    "    \"\"\"\n",
    "    select_data() take the user inputs regarding which alignments are to be examined, \n",
    "        and using the 'fastq_sample_lookup.csv' file, down-selects a pandas DataFrame that contains only\n",
    "        the data of interest. This function also appends a 'filename' column to the DataFrame that contains\n",
    "        the relative pathname of the data in that row\n",
    "    \n",
    "    Args:\n",
    "        weeks (list of ints): list of user-input weeks to be examined\n",
    "        replicates (list of ints): list of user-input replicates to be examined\n",
    "        o2_levels (list of strings): ['low'], ['high'], or ['low', 'high'] user wants both included\n",
    "        isolate_dir (str): directory name of isolate to be examined\n",
    "        \n",
    "    Returns:\n",
    "        pandas.DataFrame of the selected alignments, based on user input\n",
    "    \"\"\"\n",
    "    alignments_df = pd.read_csv(base_directory + 'fastq_sample_lookup.csv')\n",
    "    selected_data_df = alignments_df.loc[alignments_df['week'].isin(weeks)]\n",
    "    selected_data_df = selected_data_df.loc[selected_data_df['replicate'].isin(replicates)]\n",
    "    selected_data_df = selected_data_df.loc[selected_data_df['O2'].isin(o2_levels)]\n",
    "    filepath_list = []\n",
    "    for _, row in selected_data_df.iterrows():\n",
    "        sample_dir = row['fastq']\n",
    "        filepath = '{}/{}/{}/{}_{}'.format(base_directory, isolate_dir, sample_dir, sample_dir, isolate_dir)\n",
    "        filepath_list.append(filepath)\n",
    "    selected_data_df['filepath'] = filepath_list\n",
    "    selected_data_df = selected_data_df[['sample', 'date', 'origin_O2', 'O2', 'week', 'replicate', 'filepath']]\n",
    "    selected_data_df = selected_data_df.reset_index(drop=True)\n",
    "    return selected_data_df\n",
    "\n",
    "# function to check that bedfiles of interest actually exist where we think they do\n",
    "\n",
    "def check_bedfiles_exist(data_df):\n",
    "    \"\"\"\n",
    "    check_bedfiles_exist() uses the os packages to verify that all of the bedfiles for the data of interest\n",
    "        can in fact be found where the pathnames direct\n",
    "        \n",
    "    Args:\n",
    "        data_df (pandas.DataFrame): DataFrame of data of interest. Must contain the 'filepath' field corresponding\n",
    "            to the pathname of the data of interest in each row\n",
    "        \n",
    "    Raises:\n",
    "        If not all data of interest can be found, a warning will be printed out listing the samples for which\n",
    "            the bedfiles were not located where the pathname directed\n",
    "    \n",
    "    Returns:\n",
    "        pandas.DataFrame downselected to contain only the rows of the data for which all bedfiles could be located\n",
    "    \"\"\"\n",
    "    exists_bool_mask = []\n",
    "    for file in data_df['filepath'].tolist():\n",
    "        coverage_bedfile = os.path.isfile(file + '.coverage.bed')\n",
    "        vcf_file = os.path.isfile(file + '.vcf')\n",
    "        exists_bool_mask.append(coverage_bedfile & vcf_file)\n",
    "    existant_data_df = data_df.loc[exists_bool_mask]\n",
    "    if existant_data_df.shape != data_df.shape:\n",
    "        print('The following alignment files could not be located:\\n')\n",
    "        print(data_df.loc[[not bool_value for bool_value in exists_bool_mask]])\n",
    "    else:\n",
    "        pass\n",
    "    existant_data_df = existant_data_df.reset_index(drop=True)\n",
    "    return existant_data_df   \n"
   ]
  },
  {
   "cell_type": "code",
   "execution_count": 338,
   "metadata": {},
   "outputs": [
    {
     "name": "stdout",
     "output_type": "stream",
     "text": [
      "Please select isolate alignment\n"
     ]
    },
    {
     "data": {
      "application/vnd.jupyter.widget-view+json": {
       "model_id": "866724256e124ef3adfcc4faa304fff0",
       "version_major": 2,
       "version_minor": 0
      },
      "text/plain": [
       "interactive(children=(Dropdown(description='isolate', options=('Methylotenera mobilis JLW8', 'Methylomonas sp.…"
      ]
     },
     "metadata": {},
     "output_type": "display_data"
    },
    {
     "name": "stdout",
     "output_type": "stream",
     "text": [
      "Please select base coordinates\n"
     ]
    },
    {
     "data": {
      "application/vnd.jupyter.widget-view+json": {
       "model_id": "7e18dd1bfd7d44188d80c9dfccfe2f24",
       "version_major": 2,
       "version_minor": 0
      },
      "text/plain": [
       "interactive(children=(Text(value='0', description='start'), Text(value='0', description='stop'), Text(value='r…"
      ]
     },
     "metadata": {},
     "output_type": "display_data"
    },
    {
     "name": "stdout",
     "output_type": "stream",
     "text": [
      "Please select sampling week(s)\n"
     ]
    },
    {
     "data": {
      "application/vnd.jupyter.widget-view+json": {
       "model_id": "0ab8c26669ac440d91823030807db20a",
       "version_major": 2,
       "version_minor": 0
      },
      "text/plain": [
       "interactive(children=(Checkbox(value=True, description='week_4'), Checkbox(value=True, description='week_5'), …"
      ]
     },
     "metadata": {},
     "output_type": "display_data"
    },
    {
     "name": "stdout",
     "output_type": "stream",
     "text": [
      "Please select replicate(s)\n"
     ]
    },
    {
     "data": {
      "application/vnd.jupyter.widget-view+json": {
       "model_id": "4668ae27827047608f31a5bd3dcda0bf",
       "version_major": 2,
       "version_minor": 0
      },
      "text/plain": [
       "interactive(children=(Checkbox(value=True, description='replicate_1'), Checkbox(value=True, description='repli…"
      ]
     },
     "metadata": {},
     "output_type": "display_data"
    },
    {
     "name": "stdout",
     "output_type": "stream",
     "text": [
      "Please select oxygen level(s)\n"
     ]
    },
    {
     "data": {
      "application/vnd.jupyter.widget-view+json": {
       "model_id": "3042bab0391648a28365b6bcbf8e356d",
       "version_major": 2,
       "version_minor": 0
      },
      "text/plain": [
       "interactive(children=(Checkbox(value=True, description='low'), Checkbox(value=True, description='high'), Outpu…"
      ]
     },
     "metadata": {},
     "output_type": "display_data"
    }
   ],
   "source": [
    "# instantiate user input functions\n",
    "\n",
    "isolate = ipywidgets.interactive(isolate_input, isolate=isolates['human_name'].tolist())\n",
    "base_coords = ipywidgets.interactive(base_coord_input, start='0', stop='0', label='region name')\n",
    "weeks = ipywidgets.interactive(week_input, week_4=True, week_5=True, week_6=True, week_7=True, week_8=True, \n",
    "                               week_9=True, week_10=True, week_11=True, week_12=True, week_13=True, week_14=True)\n",
    "replicates = ipywidgets.interactive(replicate_input, replicate_1=True, replicate_2=True, replicate_3=True, \n",
    "                                    replicate_4=True)\n",
    "o2_levels = ipywidgets.interactive(o2_level_input, low=True, high=True)\n",
    "\n",
    "# display user input interface\n",
    "\n",
    "print('Please select isolate alignment')\n",
    "display(isolate)\n",
    "print('Please select base coordinates')\n",
    "display(base_coords)\n",
    "print('Please select sampling week(s)')\n",
    "display(weeks)\n",
    "print('Please select replicate(s)')\n",
    "display(replicates)\n",
    "print('Please select oxygen level(s)')\n",
    "display(o2_levels)"
   ]
  },
  {
   "cell_type": "code",
   "execution_count": 339,
   "metadata": {},
   "outputs": [],
   "source": [
    "# parse user inputs, process, and check necessary bedfiles exist\n",
    "start, stop, name = base_coords.result\n",
    "isolate_dir, region_of_interest_bed = get_reference(isolate.result, start, stop, name)\n",
    "\n",
    "data_df = select_data(weeks.result, replicates.result, o2_levels.result, isolate_dir)\n",
    "existant_data_df = check_bedfiles_exist(data_df)\n"
   ]
  },
  {
   "cell_type": "code",
   "execution_count": 340,
   "metadata": {
    "scrolled": true
   },
   "outputs": [
    {
     "name": "stderr",
     "output_type": "stream",
     "text": [
      "/Users/stephenblaskowski/miniconda3/envs/seqalyze/lib/python3.7/site-packages/scipy/stats/stats.py:1713: FutureWarning: Using a non-tuple sequence for multidimensional indexing is deprecated; use `arr[tuple(seq)]` instead of `arr[seq]`. In the future this will be interpreted as an array index, `arr[np.array(seq)]`, which will result either in an error or a different result.\n",
      "  return np.add.reduce(sorted[indexer] * weights, axis=axis) / sumval\n"
     ]
    },
    {
     "data": {
      "image/png": "[encoded data removed]",
      "text/plain": [
       "<Figure size 1152x288 with 4 Axes>"
      ]
     },
     "metadata": {
      "needs_background": "light"
     },
     "output_type": "display_data"
    }
   ],
   "source": [
    "# plot region of interest\n",
    "\n",
    "fig, axes = generate_combined_plot(existant_data_df, isolate.result, region_of_interest_bed)"
   ]
  },
  {
   "cell_type": "code",
   "execution_count": null,
   "metadata": {},
   "outputs": [],
   "source": []
  }
 ],
 "metadata": {
  "kernelspec": {
   "display_name": "Python 3",
   "language": "python",
   "name": "python3"
  },
  "language_info": {
   "codemirror_mode": {
    "name": "ipython",
    "version": 3
   },
   "file_extension": ".py",
   "mimetype": "text/x-python",
   "name": "python",
   "nbconvert_exporter": "python",
   "pygments_lexer": "ipython3",
   "version": "3.7.1"
  }
 },
 "nbformat": 4,
 "nbformat_minor": 2
}
